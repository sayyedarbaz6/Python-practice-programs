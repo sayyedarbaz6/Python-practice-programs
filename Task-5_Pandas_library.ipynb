{
  "nbformat": 4,
  "nbformat_minor": 0,
  "metadata": {
    "colab": {
      "name": "Pandas_library",
      "provenance": [],
      "collapsed_sections": [],
      "authorship_tag": "ABX9TyO5vLe6q0d95rzGYs4rLA+z",
      "include_colab_link": true
    },
    "kernelspec": {
      "name": "python3",
      "display_name": "Python 3"
    },
    "language_info": {
      "name": "python"
    }
  },
  "cells": [
    {
      "cell_type": "markdown",
      "metadata": {
        "id": "view-in-github",
        "colab_type": "text"
      },
      "source": [
        "<a href=\"https://colab.research.google.com/github/sayyedarbaz6/Python-practice-programs/blob/main/Task-5_Pandas_library.ipynb\" target=\"_parent\"><img src=\"https://colab.research.google.com/assets/colab-badge.svg\" alt=\"Open In Colab\"/></a>"
      ]
    },
    {
      "cell_type": "code",
      "source": [
        "#1Read the spotify csv and print the data.\n",
        "import pandas as pd\n",
        "df = pd.read_csv('/content/spotify.xls')\n",
        "print(df)\n"
      ],
      "metadata": {
        "id": "edx83V0ynSUz"
      },
      "execution_count": null,
      "outputs": []
    },
    {
      "cell_type": "code",
      "execution_count": null,
      "metadata": {
        "id": "gejJARz1HaIL"
      },
      "outputs": [],
      "source": [
        "#2Writing the data from one file to another new file.\n",
        "import pandas as pd\n",
        "df = pd.read_csv('/content/spotify.xls')\n",
        "newfile = pd.DataFrame()\n",
        "df.to_csv('newfile.csv')\n",
        "print(df)\n",
        "\n"
      ]
    },
    {
      "cell_type": "code",
      "source": [
        "#3 Program to create Dataframe of three series and display it.\n",
        "import pandas as pd\n",
        "s1 = pd.Series([1, 3, 4, 5, 6, 2, 9])  \n",
        "s2 = pd.Series([1.1, 3.5, 4.7, 5.8, 2.9, 9.3])\n",
        "s3 = pd.Series(['a', 'b', 'c', 'd', 'e'])     \n",
        "Data ={'first':s1, 'second':s2, 'third':s3}\n",
        "dfseries = pd.DataFrame(Data)\n",
        "print(dfseries)"
      ],
      "metadata": {
        "id": "whXIpOla_v6p"
      },
      "execution_count": null,
      "outputs": []
    },
    {
      "cell_type": "code",
      "source": [
        "#4 Program to create DataFrame from 2D array\n",
        "import pandas as pd \n",
        "d1 =[[2, 3, 4], [5, 6, 7]] \n",
        "d2 =[[2, 4, 8], [1, 3, 9]] \n",
        "Data ={'first': d1, 'second': d2}  \n",
        "df2d = pd.DataFrame(Data)    \n",
        "print(df2d)"
      ],
      "metadata": {
        "colab": {
          "base_uri": "https://localhost:8080/"
        },
        "id": "cOITQUdSAy6z",
        "outputId": "3acbb5f4-aa47-4b05-fc9c-cc8aee48b6c9"
      },
      "execution_count": 13,
      "outputs": [
        {
          "output_type": "stream",
          "name": "stdout",
          "text": [
            "       first     second\n",
            "0  [2, 3, 4]  [2, 4, 8]\n",
            "1  [5, 6, 7]  [1, 3, 9]\n"
          ]
        }
      ]
    },
    {
      "cell_type": "code",
      "source": [
        "#5Reading csv file and storing the data to new json file. \n",
        "import pandas as pd\n",
        "df = pd.read_csv('/content/spotify.xls')\n",
        "jsonfile = pd.DataFrame()\n",
        "df.to_json('jsonfile.json')\n"
      ],
      "metadata": {
        "id": "IbvqZBPvk0Rt"
      },
      "execution_count": null,
      "outputs": []
    },
    {
      "cell_type": "code",
      "source": [
        "#6Comparing two files data and giving output.\n",
        "import pandas as pd\n",
        "df1=pd.read_csv('/content/iris_virginica.xls')\n",
        "df2=pd.read_csv('/content/asdf.xls')\n",
        "comparison_values = df1.values != df2.values\n",
        "print(comparison_values)\n"
      ],
      "metadata": {
        "id": "RyiI9fhlkshj"
      },
      "execution_count": null,
      "outputs": []
    },
    {
      "cell_type": "code",
      "source": [
        "#7Reading csv file and dropping rows having null values.\n",
        "import pandas as pd\n",
        "df = pd.read_csv('/content/spotify.xls')\n",
        "df.dropna()\n",
        "print(df)\n"
      ],
      "metadata": {
        "id": "qepfQuBq_dsj"
      },
      "execution_count": null,
      "outputs": []
    },
    {
      "cell_type": "code",
      "source": [
        "#8 Operations on series.\n",
        "import numpy as np\n",
        "import pandas as pd\n",
        "fruits = ['apples', 'oranges', 'cherries', 'pears']\n",
        "S = pd.Series([20, 33, 52, 10], index=fruits)\n",
        "print((S + 3) * 4)\n",
        "print(\"======================\")\n",
        "print(np.sin(S))"
      ],
      "metadata": {
        "colab": {
          "base_uri": "https://localhost:8080/"
        },
        "id": "D__zrUaKAz6p",
        "outputId": "30ebf9b6-e9ea-4481-f55f-9218963bc158"
      },
      "execution_count": 17,
      "outputs": [
        {
          "output_type": "stream",
          "name": "stdout",
          "text": [
            "apples       92\n",
            "oranges     144\n",
            "cherries    220\n",
            "pears        52\n",
            "dtype: int64\n",
            "======================\n",
            "apples      0.912945\n",
            "oranges     0.999912\n",
            "cherries    0.986628\n",
            "pears      -0.544021\n",
            "dtype: float64\n"
          ]
        }
      ]
    }
  ]
}