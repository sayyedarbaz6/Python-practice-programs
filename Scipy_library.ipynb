{
  "nbformat": 4,
  "nbformat_minor": 0,
  "metadata": {
    "colab": {
      "name": "Scipy_library",
      "provenance": [],
      "collapsed_sections": [],
      "authorship_tag": "ABX9TyO0ZT4tlfEC8zca33on70yh",
      "include_colab_link": true
    },
    "kernelspec": {
      "name": "python3",
      "display_name": "Python 3"
    },
    "language_info": {
      "name": "python"
    }
  },
  "cells": [
    {
      "cell_type": "markdown",
      "metadata": {
        "id": "view-in-github",
        "colab_type": "text"
      },
      "source": [
        "<a href=\"https://colab.research.google.com/github/sayyedarbaz6/Python-practice-programs/blob/main/Scipy_library.ipynb\" target=\"_parent\"><img src=\"https://colab.research.google.com/assets/colab-badge.svg\" alt=\"Open In Colab\"/></a>"
      ]
    },
    {
      "cell_type": "code",
      "execution_count": null,
      "metadata": {
        "id": "6pG3ZfI6_-a8"
      },
      "outputs": [],
      "source": [
        "#1Store array in example.mat file and get data from example.mat file\n",
        "import numpy as np\n",
        "from scipy import io as sio\n",
        "array = np.ones((4, 4))\n",
        "sio.savemat('example.mat', {'ar': array}) \n",
        "data = sio.loadmat('example.mat', struct_as_record=True)\n",
        "data['ar']"
      ]
    },
    {
      "cell_type": "code",
      "source": [
        "#2Find cubic root of given number.\n",
        "from scipy.special import cbrt\n",
        "i=int(input(\"Enter the number \"))\n",
        "cb = cbrt([i])\n",
        "print(\"The cube root of the given number is :\",cb)"
      ],
      "metadata": {
        "id": "jZQUkFR-GP8K"
      },
      "execution_count": null,
      "outputs": []
    },
    {
      "cell_type": "code",
      "source": [
        "#3Finding Combination and permutation.\n",
        "from scipy.special import comb\n",
        "from scipy.special import perm\n",
        "com = comb(5, 2)\n",
        "print(com)\n",
        "per = perm(5, 2)\n",
        "print(per)"
      ],
      "metadata": {
        "id": "dctjofsHVE9M"
      },
      "execution_count": null,
      "outputs": []
    },
    {
      "cell_type": "code",
      "source": [
        "#4Finding Determinant of given two dimentional array.\n",
        "from scipy import linalg\n",
        "import numpy as np\n",
        "two_d_array = np.array([ [4,5], [3,2] ])\n",
        "linalg.det( two_d_array )"
      ],
      "metadata": {
        "id": "EME8m_bgXfUZ"
      },
      "execution_count": null,
      "outputs": []
    },
    {
      "cell_type": "code",
      "source": [
        "#5Finding Eigenvalues and Eigenvectors.\n",
        "from scipy import linalg\n",
        "import numpy as np\n",
        "arr = np.array([[5,4],[6,3]])\n",
        "eg_val, eg_vect = linalg.eig(arr)\n",
        "print(\"Eigenvalues is :\",eg_val)\n",
        "print(\"Eigenvectors is :\",eg_vect)"
      ],
      "metadata": {
        "id": "OTLO9DkaYKRX"
      },
      "execution_count": null,
      "outputs": []
    },
    {
      "cell_type": "code",
      "source": [
        "#6Get face image of panda from misc package and display it.\n",
        "from scipy import misc\n",
        "from matplotlib import pyplot as plt\n",
        "import numpy as np\n",
        "panda = misc.face()\n",
        "plt.imshow( panda )\n",
        "plt.show()"
      ],
      "metadata": {
        "id": "m2J4D4KOY9-x"
      },
      "execution_count": null,
      "outputs": []
    },
    {
      "cell_type": "code",
      "source": [
        "#7Get face image of panda from misc package, rotate it and display it.\n",
        "from scipy import ndimage, misc\n",
        "from matplotlib import pyplot as plt\n",
        "panda = misc.face()\n",
        "panda_rotate = ndimage.rotate(panda, 135)\n",
        "plt.imshow(panda_rotate)\n",
        "plt.show()"
      ],
      "metadata": {
        "id": "cPlCaZtSan4H"
      },
      "execution_count": null,
      "outputs": []
    },
    {
      "cell_type": "code",
      "source": [
        "#8Finding a value between two points in a curve or a line can be termed as interpolation.\n",
        "import numpy as np\n",
        "from scipy import interpolate\n",
        "import matplotlib.pyplot as plt\n",
        "x = np.linspace(0, 5, 12)\n",
        "y = np.cos(x**2/3+4)\n",
        "print (x,y)"
      ],
      "metadata": {
        "id": "pdCmoO6l-okW"
      },
      "execution_count": null,
      "outputs": []
    }
  ]
}