{
  "nbformat": 4,
  "nbformat_minor": 0,
  "metadata": {
    "colab": {
      "name": "Task-5_Plotly_library",
      "provenance": [],
      "collapsed_sections": [],
      "authorship_tag": "ABX9TyPbXq7vyDM2eep8BHkZowBA",
      "include_colab_link": true
    },
    "kernelspec": {
      "name": "python3",
      "display_name": "Python 3"
    },
    "language_info": {
      "name": "python"
    }
  },
  "cells": [
    {
      "cell_type": "markdown",
      "metadata": {
        "id": "view-in-github",
        "colab_type": "text"
      },
      "source": [
        "<a href=\"https://colab.research.google.com/github/sayyedarbaz6/Python-practice-programs/blob/main/Task_5_Plotly_library.ipynb\" target=\"_parent\"><img src=\"https://colab.research.google.com/assets/colab-badge.svg\" alt=\"Open In Colab\"/></a>"
      ]
    },
    {
      "cell_type": "code",
      "source": [
        "import plotly.graph_objects as go\n",
        "fig = go.Figure( go.Scatter(x=[1,2,3], y=[1,3,2] ) )\n",
        "fig.show()\n"
      ],
      "metadata": {
        "id": "CwMuSumQMo4p"
      },
      "execution_count": null,
      "outputs": []
    },
    {
      "cell_type": "code",
      "source": [
        "import numpy as np\n",
        "import plotly\n",
        "import plotly.graph_objects as go\n",
        "import plotly.offline as pyo\n",
        "from plotly.offline import init_notebook_mode\n",
        " \n",
        "init_notebook_mode(connected=True)\n",
        " \n",
        "\n",
        "x = np.random.randint(low=1, high=50, size=150)*0.1\n",
        "\n",
        "y = np.random.randint(low=1, high=50, size=150)*0.1\n",
        " \n",
        "fig = go.Figure(data=go.Scatter(x=x, y=y, mode='markers'))\n",
        " \n",
        "fig.show()"
      ],
      "metadata": {
        "id": "9DZkYwb3VIo9"
      },
      "execution_count": null,
      "outputs": []
    },
    {
      "cell_type": "code",
      "source": [
        "import plotly.graph_objects as go\n",
        "import numpy as np\n",
        "np.random.seed(1)\n",
        "\n",
        "N = 100\n",
        "x = np.random.rand(N)\n",
        "y = np.random.rand(N)\n",
        "colors = np.random.rand(N)\n",
        "sz = np.random.rand(N) * 30\n",
        "\n",
        "fig = go.Figure()\n",
        "fig.add_trace(go.Scatter(\n",
        "    x=x,\n",
        "    y=y,\n",
        "    mode=\"markers\",\n",
        "    marker=go.scatter.Marker(\n",
        "        size=sz,\n",
        "        color=colors,\n",
        "        opacity=0.6,\n",
        "        colorscale=\"Viridis\"\n",
        "    )\n",
        "))\n",
        "\n",
        "fig.show()\n"
      ],
      "metadata": {
        "id": "vdAwa5EYS632"
      },
      "execution_count": null,
      "outputs": []
    },
    {
      "cell_type": "code",
      "source": [
        "import numpy as np\n",
        "import plotly\n",
        "import plotly.graph_objects as go\n",
        "import plotly.offline as pyo\n",
        "from plotly.offline import init_notebook_mode\n",
        "\n",
        "init_notebook_mode(connected = True)\n",
        "\n",
        "countries=['India', 'canada',\n",
        "\t\t'Australia','Brazil',\n",
        "\t\t'Mexico','Russia',\n",
        "\t\t'Germany','Switzerland',\n",
        "\t\t'Texas']\n",
        "\n",
        "fig = go.Figure([go.Bar(x=countries,\n",
        "\t\t\t\t\t\ty=[80,70,60,50,\n",
        "\t\t\t\t\t\t40,50,60,70,80])])\n",
        "\n",
        "fig.show()\n"
      ],
      "metadata": {
        "id": "i7OW-siTVVLD"
      },
      "execution_count": null,
      "outputs": []
    },
    {
      "cell_type": "code",
      "source": [
        "import numpy as np\n",
        "import plotly\n",
        "import plotly.graph_objects as go\n",
        "import plotly.offline as pyo\n",
        "from plotly.offline import init_notebook_mode\n",
        "\n",
        "init_notebook_mode(connected = True)\n",
        "\n",
        "countries=['India', 'canada',\n",
        "\t\t'Australia','Brazil',\n",
        "\t\t'Mexico','Russia',\n",
        "\t\t'Germany','Switzerland',\n",
        "\t\t'Texas']\n",
        "\n",
        "values = [4500, 2500, 1053, 500,\n",
        "\t\t3200, 1500, 1253, 600, 3500]\n",
        "\n",
        "fig = go.Figure(data=[go.Pie(labels=countries,\n",
        "\t\t\t\t\tvalues=values)])\n",
        "\n",
        "fig.show()\n"
      ],
      "metadata": {
        "id": "FO7HeCPtVfjX"
      },
      "execution_count": null,
      "outputs": []
    },
    {
      "cell_type": "code",
      "source": [
        "import numpy as np\n",
        "import plotly\n",
        "import plotly.graph_objects as go\n",
        "import plotly.offline as pyo\n",
        "from plotly.offline import init_notebook_mode\n",
        "\n",
        "init_notebook_mode(connected = True)\n",
        "\n",
        "np.random.seed(42)\n",
        "\n",
        "x = np.random.randn(250)\n",
        "\n",
        "fig = go.Figure(data=[go.Histogram(x=x)])\n",
        "\n",
        "fig.show()\n"
      ],
      "metadata": {
        "id": "6x-zcKr8VrVp"
      },
      "execution_count": null,
      "outputs": []
    },
    {
      "cell_type": "code",
      "source": [
        "import numpy as np\n",
        "import plotly\n",
        "import plotly.graph_objects as go\n",
        "import plotly.offline as pyo\n",
        "from plotly.offline import init_notebook_mode\n",
        "\n",
        "init_notebook_mode(connected = True)\n",
        "\n",
        "np.random.seed(42)\n",
        "\n",
        "y = np.random.randn(50)\n",
        "\n",
        "y1 = np.random.randn(50)\n",
        "fig = go.Figure()\n",
        "\n",
        "fig.add_trace(go.Box(y=y))\n",
        "\n",
        "fig.add_trace(go.Box(y=y1))\n",
        "\n",
        "fig.show()\n"
      ],
      "metadata": {
        "id": "sB-5lWshV4cS"
      },
      "execution_count": null,
      "outputs": []
    }
  ]
}